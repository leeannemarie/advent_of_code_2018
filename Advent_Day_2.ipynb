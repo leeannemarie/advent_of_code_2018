{
 "cells": [
  {
   "cell_type": "markdown",
   "metadata": {},
   "source": [
    "https://adventofcode.com/2018/day/2"
   ]
  },
  {
   "cell_type": "markdown",
   "metadata": {},
   "source": [
    "Objective:\n",
    "given a list of strings, count how many of them contain a letter exactly twice. Count how many contain a letter exactly three times. Multiply these two numbers together to create a checksum for the list."
   ]
  },
  {
   "cell_type": "code",
   "execution_count": 1,
   "metadata": {},
   "outputs": [],
   "source": [
    "import collections\n",
    "\n",
    "a = 'qysdgimlcaghpfozuwejmhrbvx'\n",
    "\n",
    "\n",
    "d = collections.defaultdict(int)\n",
    "for c in a:\n",
    "    d[c] += 1   "
   ]
  },
  {
   "cell_type": "code",
   "execution_count": 2,
   "metadata": {},
   "outputs": [
    {
     "data": {
      "text/plain": [
       "False"
      ]
     },
     "execution_count": 2,
     "metadata": {},
     "output_type": "execute_result"
    }
   ],
   "source": [
    "any(value > 3 for value in d.values())"
   ]
  },
  {
   "cell_type": "code",
   "execution_count": 4,
   "metadata": {},
   "outputs": [
    {
     "data": {
      "text/plain": [
       "4980"
      ]
     },
     "execution_count": 4,
     "metadata": {},
     "output_type": "execute_result"
    }
   ],
   "source": [
    "duplicate_letters = 0\n",
    "triplicate_letters = 0\n",
    "\n",
    "with open('input_D2.txt') as file:\n",
    "    for line in file:\n",
    "        box_ID = line\n",
    "        \n",
    "        d = collections.defaultdict(int)\n",
    "        for letters in box_ID:\n",
    "            d[letters] += 1\n",
    "            \n",
    "        if any(value == 2 for value in d.values()) == True:\n",
    "            duplicate_letters += 1\n",
    "\n",
    "        if any(value == 3 for value in d.values()) == True:\n",
    "            triplicate_letters += 1\n",
    "\n",
    "duplicate_letters * triplicate_letters"
   ]
  },
  {
   "cell_type": "markdown",
   "metadata": {},
   "source": [
    "Better answer:"
   ]
  },
  {
   "cell_type": "code",
   "execution_count": 5,
   "metadata": {},
   "outputs": [
    {
     "data": {
      "text/plain": [
       "4980"
      ]
     },
     "execution_count": 5,
     "metadata": {},
     "output_type": "execute_result"
    }
   ],
   "source": [
    "duplicate_letters = 0\n",
    "triplicate_letters = 0\n",
    "\n",
    "with open('input_D2.txt') as file:\n",
    "    for line in file:\n",
    "        box_ID = line\n",
    "        \n",
    "        d = collections.Counter(box_ID)\n",
    "            \n",
    "        if any(value == 2 for value in d.values()):\n",
    "            duplicate_letters += 1\n",
    "\n",
    "        if any(value == 3 for value in d.values()):\n",
    "            triplicate_letters += 1\n",
    "\n",
    "duplicate_letters * triplicate_letters"
   ]
  },
  {
   "cell_type": "markdown",
   "metadata": {},
   "source": [
    "Puzzle two objective: compare the box IDs to each other. The two boxes that only differ by one letter are the right boxes. Return the characters that are the same between the two.\n",
    "\n",
    "Problem one is how to compare two strings\n",
    "\n",
    "Problem two is how to do this with all pairwise combinations, since our list of strings is 250 long. Will likely need to work with sets.\n",
    "Hint was nested for loops."
   ]
  },
  {
   "cell_type": "code",
   "execution_count": 6,
   "metadata": {},
   "outputs": [],
   "source": [
    "def hamming_distance(str1, str2):\n",
    "    distance = len([i for i in range(len(str1)) if str1[i] != str2[i]])\n",
    "    return distance"
   ]
  },
  {
   "cell_type": "code",
   "execution_count": 11,
   "metadata": {},
   "outputs": [],
   "source": [
    "def common_letters(str1, str2):\n",
    "    letters = [str1[i] for i in range(len(str1)) if str1[i] == str2[i]]\n",
    "    word = ''.join(letters)\n",
    "    return word"
   ]
  },
  {
   "cell_type": "code",
   "execution_count": 12,
   "metadata": {},
   "outputs": [],
   "source": [
    "list_of_IDs = []\n",
    "\n",
    "with open('input_D2.txt') as file:\n",
    "    for line in file:\n",
    "        list_of_IDs.append(line.strip())"
   ]
  },
  {
   "cell_type": "code",
   "execution_count": 13,
   "metadata": {},
   "outputs": [
    {
     "data": {
      "text/plain": [
       "6"
      ]
     },
     "execution_count": 13,
     "metadata": {},
     "output_type": "execute_result"
    }
   ],
   "source": [
    "hamming_distance(list_of_IDs[0], list_of_IDs[3])"
   ]
  },
  {
   "cell_type": "code",
   "execution_count": 14,
   "metadata": {},
   "outputs": [
    {
     "name": "stdout",
     "output_type": "stream",
     "text": [
      "qysdtrkloagnfozuwujmhrbvx\n",
      "qysdtrkloagnfozuwujmhrbvx\n"
     ]
    }
   ],
   "source": [
    "for ID in list_of_IDs:\n",
    "    for other_ID in list_of_IDs:\n",
    "        if hamming_distance(ID, other_ID) == 1:\n",
    "            print(common_letters(ID, other_ID))"
   ]
  },
  {
   "cell_type": "code",
   "execution_count": 17,
   "metadata": {},
   "outputs": [],
   "source": [
    "#an alternate way defining hamming distance function\n",
    "def hamming_distance_2(first, second):\n",
    "    return sum(1 for f,s in zip(first,second) if f != s)"
   ]
  }
 ],
 "metadata": {
  "kernelspec": {
   "display_name": "Python 3",
   "language": "python",
   "name": "python3"
  },
  "language_info": {
   "codemirror_mode": {
    "name": "ipython",
    "version": 3
   },
   "file_extension": ".py",
   "mimetype": "text/x-python",
   "name": "python",
   "nbconvert_exporter": "python",
   "pygments_lexer": "ipython3",
   "version": "3.6.5"
  }
 },
 "nbformat": 4,
 "nbformat_minor": 2
}
