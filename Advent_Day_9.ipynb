{
 "cells": [
  {
   "cell_type": "markdown",
   "metadata": {},
   "source": [
    "https://adventofcode.com/2018/day/9"
   ]
  },
  {
   "cell_type": "markdown",
   "metadata": {},
   "source": [
    "Lesson and Demo:"
   ]
  },
  {
   "cell_type": "markdown",
   "metadata": {},
   "source": [
    "Linked list, you can reference next object in the list.\n",
    "Slow to access a specific element, but easy to splice things in. There are no indices.\n",
    "\n",
    "By contrast, a normal list is fast to get to a certain element, but slow to splice something in (you'd have to move everything one down).\n",
    "\n",
    "Single linked list is where each node points to its next, but cannot go backwards.\n",
    "\n",
    "A doubly linked list is where each node can point to both the next and previous node."
   ]
  },
  {
   "cell_type": "code",
   "execution_count": 1,
   "metadata": {},
   "outputs": [],
   "source": [
    "class Node():\n",
    "    def __init__(self, label, next_node=None):\n",
    "        self.label = label\n",
    "        self.next_node = next_node\n",
    "    \n",
    "    def print_ordered_labels(self):\n",
    "        print(self.label)\n",
    "        if self.next_node is not None:\n",
    "            self.next_node.print_ordered_labels()"
   ]
  },
  {
   "cell_type": "markdown",
   "metadata": {},
   "source": [
    "Objective part one:\n",
    "    \n",
    "    \n",
    "You are drawing numbered marbles, starting with 0, in numeric order, and adding them to a circle of marbles with specific rules.\n",
    "\n",
    "Rules:\n",
    "- place the next marble between the 1 and 2 marbles clockwise of the current marble. This is the new current marble.\n",
    "- If the marble you draw is a multiple of 23, that person gets to add the marble's value to their score. They also remove the marble 7 spots counter-clockwise, and add that to their score. The marble immediately clockwise to the marble that was removed is the new current marble.\n",
    "\n",
    "There is a set number of players, and a set number of marbles. When the marbles run out, the game is over.\n",
    "\n",
    "The input will be the number of players and the value of the last marble that was drawn and kept. What is the winning players high score?"
   ]
  },
  {
   "cell_type": "markdown",
   "metadata": {},
   "source": [
    "Things to figure out:\n",
    "    - how to keep track of the player's ID number\n",
    "    - how to add to that players running total (Counter)\n",
    "    - How to point to something in a circle that is 7 steps away, or that is 2 steps away, and how to add a direction"
   ]
  },
  {
   "cell_type": "code",
   "execution_count": 3,
   "metadata": {},
   "outputs": [],
   "source": [
    "from itertools import cycle\n",
    "from collections import Counter\n",
    "import tqdm"
   ]
  },
  {
   "cell_type": "code",
   "execution_count": 4,
   "metadata": {},
   "outputs": [],
   "source": [
    "# in constructor for marble, if you don't pass in explicity ccw and cw, it is marble zero"
   ]
  },
  {
   "cell_type": "code",
   "execution_count": 5,
   "metadata": {},
   "outputs": [],
   "source": [
    "class Marble():\n",
    "    def __init__(self, value, clockwise_marble=None, counterclockwise_marble=None):\n",
    "        self.value = value\n",
    "        if clockwise_marble is None and counterclockwise_marble is None:\n",
    "            self.clockwise_marble = self\n",
    "            self.counterclockwise_marble = self\n",
    "        else:\n",
    "            self.clockwise_marble = clockwise_marble\n",
    "            self.counterclockwise_marble = counterclockwise_marble"
   ]
  },
  {
   "cell_type": "code",
   "execution_count": 6,
   "metadata": {},
   "outputs": [],
   "source": [
    "with open('input_D9.txt') as file:\n",
    "    for line in file:\n",
    "        line = line.strip()"
   ]
  },
  {
   "cell_type": "code",
   "execution_count": 7,
   "metadata": {},
   "outputs": [],
   "source": [
    "num_elves = int(line.split(' ')[0])\n",
    "num_marbles = int(line.split(' ')[-2])*100"
   ]
  },
  {
   "cell_type": "code",
   "execution_count": 8,
   "metadata": {},
   "outputs": [
    {
     "data": {
      "application/vnd.jupyter.widget-view+json": {
       "model_id": "931cd815aa9b4043a61d08ccfad88bb8",
       "version_major": 2,
       "version_minor": 0
      },
      "text/plain": [
       "HBox(children=(IntProgress(value=0, max=7206100), HTML(value='')))"
      ]
     },
     "metadata": {},
     "output_type": "display_data"
    },
    {
     "name": "stdout",
     "output_type": "stream",
     "text": [
      "\n"
     ]
    }
   ],
   "source": [
    "marbles_nums = tqdm.tqdm_notebook(range(1, num_marbles + 1), total=num_marbles)\n",
    "elves = cycle(range(1, num_elves + 1))\n",
    "\n",
    "elf_scores = Counter()\n",
    "\n",
    "current_marble = Marble(0)\n",
    "\n",
    "for elf, marble_num in zip(elves, marbles_nums):\n",
    "    \n",
    "    if marble_num % 23 != 0:\n",
    "        inserted_after = current_marble.clockwise_marble\n",
    "        inserted_before = current_marble.clockwise_marble.clockwise_marble\n",
    "        new = Marble(marble_num, clockwise_marble = inserted_before, counterclockwise_marble = inserted_after)\n",
    "        inserted_after.clockwise_marble = new\n",
    "        inserted_before.counterclockwise_marble = new\n",
    "        \n",
    "        current_marble = new\n",
    "        \n",
    "    elif marble_num % 23 == 0:\n",
    "        elf_scores[elf] += marble_num\n",
    "        for _ in range(7):\n",
    "            current_marble = current_marble.counterclockwise_marble\n",
    "            \n",
    "        current_marble.counterclockwise_marble.clockwise_marble = current_marble.clockwise_marble\n",
    "        current_marble.clockwise_marble.counterclockwise_marble = current_marble.counterclockwise_marble\n",
    "            \n",
    "        elf_scores[elf] += current_marble.value\n",
    "        current_marble = current_marble.clockwise_marble\n",
    "        "
   ]
  },
  {
   "cell_type": "code",
   "execution_count": 9,
   "metadata": {},
   "outputs": [
    {
     "name": "stdout",
     "output_type": "stream",
     "text": [
      "3469562780\n"
     ]
    }
   ],
   "source": [
    "print(max(elf_scores.values()))"
   ]
  }
 ],
 "metadata": {
  "kernelspec": {
   "display_name": "Python 3",
   "language": "python",
   "name": "python3"
  },
  "language_info": {
   "codemirror_mode": {
    "name": "ipython",
    "version": 3
   },
   "file_extension": ".py",
   "mimetype": "text/x-python",
   "name": "python",
   "nbconvert_exporter": "python",
   "pygments_lexer": "ipython3",
   "version": "3.6.5"
  }
 },
 "nbformat": 4,
 "nbformat_minor": 2
}
