{
 "cells": [
  {
   "cell_type": "markdown",
   "metadata": {},
   "source": [
    "https://adventofcode.com/2018/day/8"
   ]
  },
  {
   "cell_type": "markdown",
   "metadata": {},
   "source": [
    "Lesson:\n",
    "- learn more about iterators\n",
    "- learn how to make a tree\n",
    "- learn how to use recursive functions to process information in trees\n",
    "- learn to identify opportunities to use recursive functions"
   ]
  },
  {
   "cell_type": "markdown",
   "metadata": {},
   "source": [
    "Recursive functions often have a base case or terminal case, and then are re-built back up. They are breaking down a big problem into smaller ones, and then solving the smaller problems to solve the big one. Its fast for trees but otherwise an iterator is often faster and requires less memory for large datasets."
   ]
  },
  {
   "cell_type": "markdown",
   "metadata": {},
   "source": [
    "Iterators:"
   ]
  },
  {
   "cell_type": "code",
   "execution_count": 1,
   "metadata": {},
   "outputs": [
    {
     "name": "stdout",
     "output_type": "stream",
     "text": [
      "1\n",
      "2\n",
      "3\n"
     ]
    }
   ],
   "source": [
    "l = [1, 2, 3]\n",
    "\n",
    "for item in l:\n",
    "    print(item)"
   ]
  },
  {
   "cell_type": "code",
   "execution_count": 2,
   "metadata": {},
   "outputs": [],
   "source": [
    "it = iter(l)"
   ]
  },
  {
   "cell_type": "markdown",
   "metadata": {},
   "source": [
    "allows us to move through a list, and keep track of how much we have moved through in a useful way"
   ]
  },
  {
   "cell_type": "markdown",
   "metadata": {},
   "source": [
    "How to make a tree:"
   ]
  },
  {
   "cell_type": "markdown",
   "metadata": {},
   "source": [
    "each node needs a value for that node, and a list of its children"
   ]
  },
  {
   "cell_type": "code",
   "execution_count": 3,
   "metadata": {},
   "outputs": [],
   "source": [
    "#change code to replace init function. have it take as an arg a list_iterator. Put build_Tree inside of init and change as necessary"
   ]
  },
  {
   "cell_type": "code",
   "execution_count": 6,
   "metadata": {},
   "outputs": [],
   "source": [
    "class Node():\n",
    "    def __init__(self, list_iterator):\n",
    "        self.name = next(list_iterator)\n",
    "        num_children = next(list_iterator)\n",
    "\n",
    "        \n",
    "        #remember, list_iterator remembers what our place is in the list\n",
    "        self.children = [Node(list_iterator) for _ in range(num_children)]\n",
    "            \n",
    "\n",
    "        \n",
    "    def print_myself(self):\n",
    "        all_tree_members = [self.name]\n",
    "        \n",
    "        all_tree_members.append(len(self.children))\n",
    "        \n",
    "        for child in self.children:\n",
    "            all_tree_members.extend(child.print_myself())\n",
    "\n",
    "        return all_tree_members"
   ]
  },
  {
   "cell_type": "code",
   "execution_count": 9,
   "metadata": {},
   "outputs": [],
   "source": [
    "l = ['A', 2, 'B', 1, 'J', 0, 'C', 0]"
   ]
  },
  {
   "cell_type": "code",
   "execution_count": 10,
   "metadata": {},
   "outputs": [
    {
     "data": {
      "text/plain": [
       "['A', 2, 'B', 1, 'J', 0, 'C', 0]"
      ]
     },
     "execution_count": 10,
     "metadata": {},
     "output_type": "execute_result"
    }
   ],
   "source": [
    "Node(iter(l)).print_myself()"
   ]
  },
  {
   "cell_type": "markdown",
   "metadata": {},
   "source": [
    "make it work for the top case in plain english as you write the recursive function"
   ]
  },
  {
   "cell_type": "markdown",
   "metadata": {},
   "source": [
    "You can use class methods as alternative constructors. By convention those start with \"from\"."
   ]
  },
  {
   "cell_type": "markdown",
   "metadata": {},
   "source": [
    "Specifically, a node consists of:\n",
    "\n",
    "A header, which is always exactly two numbers:\n",
    "- The quantity of child nodes.\n",
    "- The quantity of metadata entries.\n",
    "- Zero or more child nodes (as specified in the header).\n",
    "- One or more metadata entries (as specified in the header).\n",
    "\n",
    "What is the sum of all metadata entries?\n"
   ]
  },
  {
   "cell_type": "markdown",
   "metadata": {},
   "source": [
    "Need to make a tree that will save number of children, the children themselves, and the number and quantity of metadata entries."
   ]
  },
  {
   "cell_type": "markdown",
   "metadata": {},
   "source": [
    "A, which has 2 child nodes (B, C) and 3 metadata entries (1, 1, 2).\n",
    "B, which has 0 child nodes and 3 metadata entries (10, 11, 12).\n",
    "C, which has 1 child node (D) and 1 metadata entry (2).\n",
    "D, which has 0 child nodes and 1 metadata entry (99)."
   ]
  },
  {
   "cell_type": "code",
   "execution_count": 11,
   "metadata": {},
   "outputs": [],
   "source": [
    "test_data = '2 3 0 3 10 11 12 1 1 0 1 99 2 1 1 2'"
   ]
  },
  {
   "cell_type": "code",
   "execution_count": 12,
   "metadata": {},
   "outputs": [],
   "source": [
    "test_numbers = [int(num) for num in test_data.split(' ')]"
   ]
  },
  {
   "cell_type": "code",
   "execution_count": 13,
   "metadata": {},
   "outputs": [],
   "source": [
    "#editing previous code\n",
    "class Node():\n",
    "    def __init__(self, list_iterator):\n",
    "        self.num_children = next(list_iterator)\n",
    "        self.num_metadata = next(list_iterator)\n",
    "        #remember, list_iterator remembers what our place is in the list\n",
    "        \n",
    "        self.children = [Node(list_iterator) for _ in range(self.num_children)]\n",
    "\n",
    "        self.metadata = [next(list_iterator) for _ in range(self.num_metadata)]\n",
    "        \n",
    "    def to_list(self):\n",
    "        all_tree_members = [self.num_children, self.num_metadata]\n",
    "        # we want to make a list that has our header, then a full list of our children, then our metadata \n",
    "       \n",
    "        for child in self.children:\n",
    "            all_tree_members.extend(child.to_list())\n",
    "            \n",
    "        all_tree_members.extend(self.metadata)\n",
    "            \n",
    "        return all_tree_members\n",
    "    \n",
    "    def sum_metadata(self):\n",
    "        total = sum(self.metadata) \n",
    "           \n",
    "        for child in self.children:\n",
    "            total += child.sum_metadata()\n",
    "            \n",
    "        return total\n",
    "    \n",
    "    def my_value(self):\n",
    "\n",
    "        my_total = 0\n",
    "        \n",
    "        #base case\n",
    "        if self.num_children == 0:\n",
    "            my_total = self.sum_metadata()\n",
    "        \n",
    "        elif self.num_children > 0:\n",
    "            for entry in self.metadata:\n",
    "                if 1 <= entry <= self.num_children:\n",
    "                    my_total += self.children[entry - 1].my_value()\n",
    "                else:\n",
    "                    continue\n",
    "\n",
    "        return my_total"
   ]
  },
  {
   "cell_type": "code",
   "execution_count": 14,
   "metadata": {},
   "outputs": [],
   "source": [
    "tree = Node(iter(test_numbers))"
   ]
  },
  {
   "cell_type": "code",
   "execution_count": 15,
   "metadata": {},
   "outputs": [
    {
     "data": {
      "text/plain": [
       "66"
      ]
     },
     "execution_count": 15,
     "metadata": {},
     "output_type": "execute_result"
    }
   ],
   "source": [
    "tree.my_value()"
   ]
  },
  {
   "cell_type": "code",
   "execution_count": 16,
   "metadata": {},
   "outputs": [
    {
     "data": {
      "text/plain": [
       "138"
      ]
     },
     "execution_count": 16,
     "metadata": {},
     "output_type": "execute_result"
    }
   ],
   "source": [
    "tree.sum_metadata()"
   ]
  },
  {
   "cell_type": "code",
   "execution_count": 17,
   "metadata": {},
   "outputs": [],
   "source": [
    "with open('input_D8.txt') as file:\n",
    "    for line in file:\n",
    "        license_file = line.strip()"
   ]
  },
  {
   "cell_type": "code",
   "execution_count": 18,
   "metadata": {},
   "outputs": [],
   "source": [
    "license_numbers = [int(num) for num in license_file.split(' ')]"
   ]
  },
  {
   "cell_type": "code",
   "execution_count": 19,
   "metadata": {},
   "outputs": [
    {
     "data": {
      "text/plain": [
       "47464"
      ]
     },
     "execution_count": 19,
     "metadata": {},
     "output_type": "execute_result"
    }
   ],
   "source": [
    "Node(iter(license_numbers)).sum_metadata()"
   ]
  },
  {
   "cell_type": "markdown",
   "metadata": {},
   "source": [
    "Part two:\n",
    "\n",
    "metadata is now indices for that node's children. The value for that node is the sum of the children's values\n",
    "If the index points to no child, then it is skipped\n",
    "need to compare value of metadata to number of children\n",
    "if the node is terminal, the value is the sum of the metadata entries\n"
   ]
  },
  {
   "cell_type": "code",
   "execution_count": 20,
   "metadata": {},
   "outputs": [
    {
     "data": {
      "text/plain": [
       "23054"
      ]
     },
     "execution_count": 20,
     "metadata": {},
     "output_type": "execute_result"
    }
   ],
   "source": [
    "Node(iter(license_numbers)).my_value()"
   ]
  }
 ],
 "metadata": {
  "kernelspec": {
   "display_name": "Python 3",
   "language": "python",
   "name": "python3"
  },
  "language_info": {
   "codemirror_mode": {
    "name": "ipython",
    "version": 3
   },
   "file_extension": ".py",
   "mimetype": "text/x-python",
   "name": "python",
   "nbconvert_exporter": "python",
   "pygments_lexer": "ipython3",
   "version": "3.6.5"
  }
 },
 "nbformat": 4,
 "nbformat_minor": 2
}
