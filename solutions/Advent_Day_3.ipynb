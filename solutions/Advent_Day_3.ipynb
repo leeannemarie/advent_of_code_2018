{
 "cells": [
  {
   "cell_type": "markdown",
   "metadata": {},
   "source": [
    "https://adventofcode.com/2018/day/3"
   ]
  },
  {
   "cell_type": "markdown",
   "metadata": {},
   "source": [
    "Objective: Given a list of 2D dimensions rectangles, determine which coordinates contain one or more of the rectangles overlapping\n",
    "\n",
    "Strategy:\n",
    "- convert the rectangle dimensions into a set of coordinates (tuples), will need to slice strings to get those coordinates\n",
    "- ask which coordinates are represented in more than one set -> count the number of them that do, and that is your answer"
   ]
  },
  {
   "cell_type": "markdown",
   "metadata": {},
   "source": [
    "Coordinate example '#1 @ 342,645: 25x20'\n",
    "\n",
    "means the upper left hand corner of a 25 x 20 inch rectangle starts at the coordinates 342 inches from the left, and 645 inches down"
   ]
  },
  {
   "cell_type": "code",
   "execution_count": 1,
   "metadata": {},
   "outputs": [],
   "source": [
    "#testing code with just one string from the list\n",
    "test_string = '#1 @ 342,645: 25x20'\n",
    "ID, _, coordinates, dimensions = test_string.split(' ')\n",
    "\n",
    "x_coord, y_coord = [int(coordinate.strip(':')) for coordinate in coordinates.split(',')]\n",
    "\n",
    "width, height = [int(dimension) for dimension in dimensions.split('x')]"
   ]
  },
  {
   "cell_type": "markdown",
   "metadata": {},
   "source": [
    "loop through each row, another loop for each starting row"
   ]
  },
  {
   "cell_type": "code",
   "execution_count": 2,
   "metadata": {},
   "outputs": [],
   "source": [
    "all_coordinates = set()\n",
    "\n",
    "for x in range(x_coord + 1, x_coord + 1 + width):\n",
    "    for y in range(y_coord + 1, y_coord + 1 + height):\n",
    "        all_coordinates.add((x,y))"
   ]
  },
  {
   "cell_type": "code",
   "execution_count": 3,
   "metadata": {},
   "outputs": [],
   "source": [
    "from collections import Counter\n",
    "\n",
    "times_coord_seen = Counter()\n",
    "\n",
    "with open('input_D3.txt') as file:\n",
    "    for line in file:\n",
    "        ID, _, coordinates, dimensions = line.split(' ')\n",
    "\n",
    "        x_coord, y_coord = [int(coordinate.strip(':')) for coordinate in coordinates.split(',')]\n",
    "\n",
    "        width, height = [int(dimension) for dimension in dimensions.split('x')]\n",
    "        \n",
    "        for x in range(x_coord + 1, x_coord + 1 + width):\n",
    "            for y in range(y_coord + 1, y_coord + 1 + height):\n",
    "                times_coord_seen[x,y] += 1"
   ]
  },
  {
   "cell_type": "code",
   "execution_count": 4,
   "metadata": {},
   "outputs": [
    {
     "data": {
      "text/plain": [
       "116491"
      ]
     },
     "execution_count": 4,
     "metadata": {},
     "output_type": "execute_result"
    }
   ],
   "source": [
    "len([value for value in times_coord_seen.values() if value >=2])"
   ]
  },
  {
   "cell_type": "code",
   "execution_count": 5,
   "metadata": {},
   "outputs": [],
   "source": [
    "def max_times_seen(times_coord_seen, set_of_coords):\n",
    "    return max([times_coord_seen[xy] for xy in set_of_coords])"
   ]
  },
  {
   "cell_type": "code",
   "execution_count": 6,
   "metadata": {},
   "outputs": [],
   "source": [
    "def rectangle_coords(line):\n",
    "\n",
    "    ID, _, coordinates, dimensions = line.strip().split(' ')\n",
    "\n",
    "    x_coord, y_coord = [int(coordinate.strip(':')) for coordinate in coordinates.split(',')]\n",
    "\n",
    "    width, height = [int(dimension) for dimension in dimensions.split('x')]\n",
    "\n",
    "    all_coordinates = set()\n",
    "\n",
    "    for x in range(x_coord + 1, x_coord + 1 + width):\n",
    "        for y in range(y_coord + 1, y_coord + 1 + height):\n",
    "            all_coordinates.add((x,y))\n",
    "            \n",
    "    return all_coordinates"
   ]
  },
  {
   "cell_type": "code",
   "execution_count": 7,
   "metadata": {},
   "outputs": [
    {
     "name": "stdout",
     "output_type": "stream",
     "text": [
      "#707 @ 654,158: 14x27\n",
      "\n"
     ]
    }
   ],
   "source": [
    "with open('input_D3.txt') as file:\n",
    "    for line in file:\n",
    "        if max_times_seen(times_coord_seen, rectangle_coords(line)) == 1:\n",
    "            print(line)"
   ]
  },
  {
   "cell_type": "markdown",
   "metadata": {},
   "source": [
    "Puzzle two objective:Give the only rectangle that doesn't overlap with the others\n",
    "\n",
    "So all the Counter values for this claim will equal 1. Could check if the counter values are all 1 in the for loop?"
   ]
  }
 ],
 "metadata": {
  "kernelspec": {
   "display_name": "Python 3",
   "language": "python",
   "name": "python3"
  },
  "language_info": {
   "codemirror_mode": {
    "name": "ipython",
    "version": 3
   },
   "file_extension": ".py",
   "mimetype": "text/x-python",
   "name": "python",
   "nbconvert_exporter": "python",
   "pygments_lexer": "ipython3",
   "version": "3.6.5"
  }
 },
 "nbformat": 4,
 "nbformat_minor": 2
}
