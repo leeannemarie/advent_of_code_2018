{
 "cells": [
  {
   "cell_type": "markdown",
   "metadata": {},
   "source": [
    "https://adventofcode.com/2018/day/11"
   ]
  },
  {
   "cell_type": "markdown",
   "metadata": {},
   "source": [
    "Only input is the serial number, which is 2866."
   ]
  },
  {
   "cell_type": "markdown",
   "metadata": {},
   "source": [
    "We have x,y coordinates from 1-300 with the format of 1,1 as the top left cell and 300,1 as the top-right cell.\n",
    "\n",
    "We can select a 3x3 square of coordinates. We want the 3x3 square that will give the highest score according to a certain formula for each point in the square.\n",
    "\n",
    "The formula is:\n",
    "((((x coordinate + 10) * y coordinate) + serial number) * x coordinate)\n",
    "then grab the hundreds digit of this number and subtract 5\n",
    "\n",
    "Question to answer is:\n",
    "What is the X,Y coordinate of the top-left fuel cell of the 3x3 square with the largest total power?\n"
   ]
  },
  {
   "cell_type": "markdown",
   "metadata": {},
   "source": [
    "Will need to create a grid and calculate the score for each point in the grid.\n",
    "\n",
    "Then will need to sample 3x3 squares and sum up the scores to get a total, until you have the highest total"
   ]
  },
  {
   "cell_type": "code",
   "execution_count": 1,
   "metadata": {},
   "outputs": [],
   "source": [
    "import numpy as np\n",
    "import tqdm; progress = tqdm.tqdm_notebook"
   ]
  },
  {
   "cell_type": "code",
   "execution_count": 2,
   "metadata": {},
   "outputs": [],
   "source": [
    "def get_power_level(y, x):\n",
    "    intermediate_num = (((x + 10) * y) + serial_number) * (x + 10)\n",
    "    power_level = ((intermediate_num // 100) % 10) - 5\n",
    "    return power_level"
   ]
  },
  {
   "cell_type": "code",
   "execution_count": 3,
   "metadata": {},
   "outputs": [],
   "source": [
    "serial_number = 2866"
   ]
  },
  {
   "cell_type": "code",
   "execution_count": 4,
   "metadata": {},
   "outputs": [],
   "source": [
    "grid = np.zeros((300, 300))\n",
    "\n",
    "for row in range(300):\n",
    "\n",
    "    for col in range(300):\n",
    "\n",
    "        grid[row,col] = get_power_level(row + 1, col + 1)        "
   ]
  },
  {
   "cell_type": "code",
   "execution_count": 5,
   "metadata": {},
   "outputs": [],
   "source": [
    "#now how to sample 3x3 square of this grid?\n",
    "#slice the array, sum, save to a list. use a for loop to sample the whole thing."
   ]
  },
  {
   "cell_type": "code",
   "execution_count": 6,
   "metadata": {},
   "outputs": [],
   "source": [
    "\n",
    "#then shift over one, until the end of the row\n",
    "#then \n",
    "\n",
    "#nested for loop\n",
    "\n",
    "#need to keep track of coordinates as well as sums of power\n",
    "#use a list of tuples\n",
    "coords_power_scores = []\n",
    "\n",
    "for x in range(300 - (3 - 1)):\n",
    "    for y in range(300 - (3 - 1)):     \n",
    "    \n",
    "        power = grid[y:y + 3, x:x + 3].sum()\n",
    "\n",
    "        coords_power_scores.append((power, x+1, y+1))\n"
   ]
  },
  {
   "cell_type": "code",
   "execution_count": 7,
   "metadata": {},
   "outputs": [
    {
     "data": {
      "text/plain": [
       "(30.0, 20, 50)"
      ]
     },
     "execution_count": 7,
     "metadata": {},
     "output_type": "execute_result"
    }
   ],
   "source": [
    "max(coords_power_scores)"
   ]
  },
  {
   "cell_type": "markdown",
   "metadata": {},
   "source": [
    "Part two:\n",
    "\n",
    "Same as above except now you can sample any size square instead of just a 3 x 3, but the whole thing needs to be within the 300x300 grid. What size, and coordinate give the highest power score?"
   ]
  },
  {
   "cell_type": "code",
   "execution_count": 10,
   "metadata": {},
   "outputs": [],
   "source": [
    "#write a function that gives power score with an input of sampling rectangle size\n",
    "#will be a variation of the code for part 1\n",
    "\n",
    "def get_power_square(square_size):\n",
    "    \n",
    "    power_coord_size = []\n",
    "\n",
    "    for x in range(300 - (square_size - 1)):\n",
    "        for y in range(300 - (square_size - 1)):     \n",
    "\n",
    "            power = grid[y:y + square_size, x:x + square_size].sum()\n",
    "\n",
    "            power_coord_size.append((power, x+1, y+1, square_size))\n",
    "\n",
    "    return max(power_coord_size)"
   ]
  },
  {
   "cell_type": "code",
   "execution_count": 11,
   "metadata": {},
   "outputs": [
    {
     "data": {
      "application/vnd.jupyter.widget-view+json": {
       "model_id": "dc49e17d252b43e7927ebee1b6145a40",
       "version_major": 2,
       "version_minor": 0
      },
      "text/plain": [
       "HBox(children=(IntProgress(value=0, max=300), HTML(value='')))"
      ]
     },
     "metadata": {},
     "output_type": "display_data"
    },
    {
     "name": "stdout",
     "output_type": "stream",
     "text": [
      "\n"
     ]
    }
   ],
   "source": [
    "square_sizes = np.arange(1, 301)\n",
    "\n",
    "max_powers = []\n",
    "\n",
    "for square in progress(square_sizes):\n",
    "    max_powers.append(get_power_square(square))"
   ]
  },
  {
   "cell_type": "code",
   "execution_count": 12,
   "metadata": {},
   "outputs": [
    {
     "data": {
      "text/plain": [
       "(88.0, 238, 278, 9)"
      ]
     },
     "execution_count": 12,
     "metadata": {},
     "output_type": "execute_result"
    }
   ],
   "source": [
    "max(max_powers)"
   ]
  }
 ],
 "metadata": {
  "kernelspec": {
   "display_name": "Python 3",
   "language": "python",
   "name": "python3"
  },
  "language_info": {
   "codemirror_mode": {
    "name": "ipython",
    "version": 3
   },
   "file_extension": ".py",
   "mimetype": "text/x-python",
   "name": "python",
   "nbconvert_exporter": "python",
   "pygments_lexer": "ipython3",
   "version": "3.6.5"
  }
 },
 "nbformat": 4,
 "nbformat_minor": 2
}
