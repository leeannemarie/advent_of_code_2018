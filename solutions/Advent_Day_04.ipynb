{
 "cells": [
  {
   "cell_type": "markdown",
   "metadata": {},
   "source": [
    "https://adventofcode.com/2018/day/4"
   ]
  },
  {
   "cell_type": "markdown",
   "metadata": {},
   "source": [
    "Objective: given lines of text, pull out how many minutes a guard is asleep. Select the guard that sleeps the most minutes total, then choose the minute he is most likely to be asleep instead of awake.\n",
    "\n",
    "Tasks:\n",
    "- organize the file into chronological order\n",
    "- pull out minute information, and guard information\n",
    "- organize minutes asleep by guard, with counts for each minute"
   ]
  },
  {
   "cell_type": "code",
   "execution_count": 1,
   "metadata": {},
   "outputs": [],
   "source": [
    "import re\n",
    "from collections import Counter, defaultdict"
   ]
  },
  {
   "cell_type": "code",
   "execution_count": 2,
   "metadata": {},
   "outputs": [],
   "source": [
    "events = []\n",
    "\n",
    "with open('input_D4.txt') as file:\n",
    "    for line in file:\n",
    "        events.append(line.strip())\n",
    "\n",
    "sorted_events = sorted(events)"
   ]
  },
  {
   "cell_type": "markdown",
   "metadata": {},
   "source": [
    "Go through each line, store the guard ID, then look for the word asleep, store that as a start, then look for the word wakes, then store that as an end, keep going until you see another guard ID, and then work with the current guard to do so. At some point will populate a dictionary.\n",
    "\n",
    "Make a logic tree."
   ]
  },
  {
   "cell_type": "code",
   "execution_count": 3,
   "metadata": {},
   "outputs": [],
   "source": [
    "ID_sleep_minutes = defaultdict(Counter)\n",
    "\n",
    "for line in sorted_events:\n",
    "    if re.search('#(\\d+)', line) != None: #if there is a match for guard ID\n",
    "        current_ID = int(re.search('#(\\d+)', line).group(1))\n",
    "        ID_sleep_minutes[current_ID]\n",
    "               \n",
    "    elif re.search('asleep', line) != None:\n",
    "        \n",
    "        sleep_start = (re.search(':(\\d+)', line)).group(1) #capture the minute number, and save to current sleep_start\n",
    "\n",
    "    elif re.search('wakes', line) != None:\n",
    "        sleep_end = (re.search(':(\\d+)', line)).group(1)\n",
    "\n",
    "        mins_asleep = list((range(int(sleep_start), int(sleep_end))))\n",
    "        for minute in mins_asleep:\n",
    "            ID_sleep_minutes[current_ID][minute] += 1\n",
    "            \n",
    "\n",
    "minute_guard = []\n",
    "            \n",
    "for guard in ID_sleep_minutes:\n",
    "    total_minutes = sum(ID_sleep_minutes[guard].values())\n",
    "    minute_guard.append((total_minutes, guard))\n",
    "    \n",
    "_, sleepiest_guard = max(minute_guard)"
   ]
  },
  {
   "cell_type": "code",
   "execution_count": 4,
   "metadata": {},
   "outputs": [],
   "source": [
    "def extract_minutes(line):\n",
    "    return int(re.search(':(\\d+)', line).group(1))"
   ]
  },
  {
   "cell_type": "code",
   "execution_count": 5,
   "metadata": {},
   "outputs": [],
   "source": [
    "ID_sleep_minutes = defaultdict(Counter)\n",
    "\n",
    "for line in sorted_events:\n",
    "    guard_match = re.search('#(\\d+)', line)\n",
    "    if guard_match is not None: #if there is a match for guard ID\n",
    "        current_ID = int(guard_match.group(1))\n",
    "        ID_sleep_minutes[current_ID]\n",
    "               \n",
    "    elif re.search('asleep', line) is not None:\n",
    "        \n",
    "        sleep_start = extract_minutes(line) #capture the minute number, and save to current sleep_start\n",
    "\n",
    "    elif re.search('wakes', line) is not None:\n",
    "        sleep_end = extract_minutes(line)\n",
    "\n",
    "        for minute in range(sleep_start, sleep_end):\n",
    "            ID_sleep_minutes[current_ID][minute] += 1\n",
    "            \n",
    "\n",
    "minute_guard = []\n",
    "            \n",
    "for guard in ID_sleep_minutes:\n",
    "    total_minutes = sum(ID_sleep_minutes[guard].values())\n",
    "    minute_guard.append((total_minutes, guard))\n",
    "    \n",
    "_, sleepiest_guard = max(minute_guard)"
   ]
  },
  {
   "cell_type": "code",
   "execution_count": 6,
   "metadata": {},
   "outputs": [],
   "source": [
    "max_minute_slept, _ = ID_sleep_minutes[sleepiest_guard].most_common(1)[0]"
   ]
  },
  {
   "cell_type": "code",
   "execution_count": 7,
   "metadata": {},
   "outputs": [
    {
     "data": {
      "text/plain": [
       "3212"
      ]
     },
     "execution_count": 7,
     "metadata": {},
     "output_type": "execute_result"
    }
   ],
   "source": [
    "max_minute_slept*sleepiest_guard"
   ]
  },
  {
   "cell_type": "code",
   "execution_count": 8,
   "metadata": {},
   "outputs": [],
   "source": [
    "def get_sleepiest_minute(guard):\n",
    "    max_minute_slept = ID_sleep_minutes[guard].most_common(1)\n",
    "    return max_minute_slept"
   ]
  },
  {
   "cell_type": "code",
   "execution_count": 9,
   "metadata": {},
   "outputs": [
    {
     "name": "stdout",
     "output_type": "stream",
     "text": [
      "[([(44, 14)], 73), ([(21, 6)], 2833), ([(21, 12)], 709), ([(33, 10)], 1579), ([(55, 5)], 2347), ([(25, 5)], 3373), ([(21, 8)], 3391), ([(26, 9)], 1951), ([(24, 10)], 3313), ([(32, 11)], 1811), ([(43, 12)], 2371), ([(55, 7)], 79), ([], 3203), ([(36, 6)], 1061), ([], 479), ([(32, 14)], 2677), ([(49, 10)], 1217), ([(26, 17)], 191), ([(42, 6)], 1789), ([(34, 9)], 3109), ([(17, 5)], 2591), ([(17, 8)], 863), ([], 3331)]\n"
     ]
    }
   ],
   "source": [
    "sleepiest_minutes = []\n",
    "            \n",
    "for guard in ID_sleep_minutes:\n",
    "    sleepiest_minute = get_sleepiest_minute(guard)\n",
    "    sleepiest_minutes.append((sleepiest_minute, guard))\n",
    "    \n",
    "print(sleepiest_minutes)"
   ]
  },
  {
   "cell_type": "code",
   "execution_count": 10,
   "metadata": {},
   "outputs": [
    {
     "data": {
      "text/plain": [
       "[([], 3203),\n",
       " ([], 479),\n",
       " ([], 3331),\n",
       " ([(55, 5)], 2347),\n",
       " ([(25, 5)], 3373),\n",
       " ([(17, 5)], 2591),\n",
       " ([(21, 6)], 2833),\n",
       " ([(36, 6)], 1061),\n",
       " ([(42, 6)], 1789),\n",
       " ([(55, 7)], 79),\n",
       " ([(21, 8)], 3391),\n",
       " ([(17, 8)], 863),\n",
       " ([(26, 9)], 1951),\n",
       " ([(34, 9)], 3109),\n",
       " ([(33, 10)], 1579),\n",
       " ([(24, 10)], 3313),\n",
       " ([(49, 10)], 1217),\n",
       " ([(32, 11)], 1811),\n",
       " ([(21, 12)], 709),\n",
       " ([(43, 12)], 2371),\n",
       " ([(44, 14)], 73),\n",
       " ([(32, 14)], 2677),\n",
       " ([(26, 17)], 191)]"
      ]
     },
     "execution_count": 10,
     "metadata": {},
     "output_type": "execute_result"
    }
   ],
   "source": [
    "sorted(sleepiest_minutes, key=lambda hotmess: hotmess[0][0][1] if len(hotmess[0])>0 else 0)"
   ]
  },
  {
   "cell_type": "code",
   "execution_count": 11,
   "metadata": {},
   "outputs": [],
   "source": [
    "hottestmess = max(sleepiest_minutes, key=lambda hotmess: hotmess[0][0][1] if len(hotmess[0])>0 else 0)\n",
    "answer_pt_2 = hottestmess[0][0][0] * hottestmess[1]"
   ]
  },
  {
   "cell_type": "code",
   "execution_count": 12,
   "metadata": {},
   "outputs": [
    {
     "name": "stdout",
     "output_type": "stream",
     "text": [
      "4966\n"
     ]
    }
   ],
   "source": [
    "print(answer_pt_2)"
   ]
  }
 ],
 "metadata": {
  "kernelspec": {
   "display_name": "Python 3",
   "language": "python",
   "name": "python3"
  },
  "language_info": {
   "codemirror_mode": {
    "name": "ipython",
    "version": 3
   },
   "file_extension": ".py",
   "mimetype": "text/x-python",
   "name": "python",
   "nbconvert_exporter": "python",
   "pygments_lexer": "ipython3",
   "version": "3.6.5"
  }
 },
 "nbformat": 4,
 "nbformat_minor": 2
}
