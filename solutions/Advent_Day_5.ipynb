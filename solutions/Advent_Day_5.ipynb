{
 "cells": [
  {
   "cell_type": "markdown",
   "metadata": {},
   "source": [
    "Demo for learning how to use a stack data structure:"
   ]
  },
  {
   "cell_type": "code",
   "execution_count": 1,
   "metadata": {},
   "outputs": [],
   "source": [
    "rna_structure = '(((...)..()..))'"
   ]
  },
  {
   "cell_type": "code",
   "execution_count": 2,
   "metadata": {},
   "outputs": [
    {
     "name": "stdout",
     "output_type": "stream",
     "text": [
      "2 paired with 6\n",
      "9 paired with 10\n",
      "1 paired with 13\n",
      "0 paired with 14\n"
     ]
    }
   ],
   "source": [
    "stack = []\n",
    "\n",
    "for i, c in enumerate(rna_structure):\n",
    "    if c == '(':\n",
    "        stack.append(i)\n",
    "    elif c == '.':\n",
    "        pass\n",
    "    elif c == ')':\n",
    "        if len(stack) == 0:\n",
    "            raise ValueError\n",
    "        else:\n",
    "            paired_with = stack.pop()\n",
    "            print('{} paired with {}'.format(paired_with, i))"
   ]
  },
  {
   "cell_type": "markdown",
   "metadata": {},
   "source": [
    "https://adventofcode.com/2018/day/5"
   ]
  },
  {
   "cell_type": "markdown",
   "metadata": {},
   "source": [
    "Objective: starting with a long string, and specific rules for removing characters in that string, return the length of the smaller string\n",
    "\n",
    "Will need to use a stack object."
   ]
  },
  {
   "cell_type": "code",
   "execution_count": 3,
   "metadata": {},
   "outputs": [],
   "source": [
    "with open('input_D5.txt') as file:\n",
    "    for line in file:\n",
    "        starting_polymer = line.strip()"
   ]
  },
  {
   "cell_type": "code",
   "execution_count": 5,
   "metadata": {},
   "outputs": [],
   "source": [
    "def match(letter_1, letter_2):\n",
    "    return letter_1 == letter_2"
   ]
  },
  {
   "cell_type": "code",
   "execution_count": 6,
   "metadata": {},
   "outputs": [],
   "source": [
    "def upper_lower_match(letter_1, letter_2):\n",
    "    '''return true only if two characters are mismatched in case'''\n",
    "    if letter_1.upper() != letter_2.upper():\n",
    "        return False\n",
    "    elif letter_1 == letter_2:\n",
    "        return False\n",
    "    elif letter_1.upper() == letter_2:\n",
    "        return True\n",
    "    elif letter_1.lower() == letter_2:\n",
    "        return True\n",
    "    else:\n",
    "        raise ValueError"
   ]
  },
  {
   "cell_type": "markdown",
   "metadata": {},
   "source": [
    "is this the last thing in the stack?\n",
    "if no, then add it to the stack\n",
    "if yes, then delete the last thing, and continue"
   ]
  },
  {
   "cell_type": "code",
   "execution_count": 7,
   "metadata": {},
   "outputs": [
    {
     "name": "stdout",
     "output_type": "stream",
     "text": [
      "11042\n"
     ]
    }
   ],
   "source": [
    "stack = []\n",
    "\n",
    "for c in starting_polymer:\n",
    "    if len(stack) == 0:\n",
    "        stack.append(c)\n",
    "\n",
    "    elif upper_lower_match(c, stack[-1]) == True:\n",
    "        #delete last thing, and continue\n",
    "        stack.pop()\n",
    "\n",
    "    elif upper_lower_match(c, stack[-1]) == False:\n",
    "        stack.append(c)\n",
    "    \n",
    "print(len(stack))"
   ]
  },
  {
   "cell_type": "markdown",
   "metadata": {},
   "source": [
    "Objective part two: execute same principle as above, but removing all of a certain letter (both upper and lowercase) beforehand. Removing which letter beforehand results in the smallest string?"
   ]
  },
  {
   "cell_type": "code",
   "execution_count": 8,
   "metadata": {},
   "outputs": [],
   "source": [
    "import string"
   ]
  },
  {
   "cell_type": "code",
   "execution_count": 10,
   "metadata": {},
   "outputs": [],
   "source": [
    "def collapse_polymer(starting_polymer):\n",
    "\n",
    "    stack = []\n",
    "\n",
    "    for c in starting_polymer:\n",
    "        if len(stack) == 0:\n",
    "            stack.append(c)\n",
    "\n",
    "        elif upper_lower_match(c, stack[-1]) == True:\n",
    "            #delete last thing, and continue\n",
    "            stack.pop()\n",
    "\n",
    "        elif upper_lower_match(c, stack[-1]) == False:\n",
    "            stack.append(c)\n",
    "\n",
    "    return len(stack)"
   ]
  },
  {
   "cell_type": "code",
   "execution_count": 11,
   "metadata": {},
   "outputs": [
    {
     "name": "stdout",
     "output_type": "stream",
     "text": [
      "6872\n"
     ]
    }
   ],
   "source": [
    "polymer_lengths = []\n",
    "\n",
    "for upper, lower in list(zip(string.ascii_uppercase, string.ascii_lowercase)):    \n",
    "    table = str.maketrans('', '', upper + lower)\n",
    "    modified_polymer = starting_polymer.translate(table)\n",
    "    polymer_lengths.append(collapse_polymer(modified_polymer))\n",
    "\n",
    "\n",
    "print(min(polymer_lengths))"
   ]
  },
  {
   "cell_type": "code",
   "execution_count": 12,
   "metadata": {},
   "outputs": [
    {
     "data": {
      "text/plain": [
       "26"
      ]
     },
     "execution_count": 12,
     "metadata": {},
     "output_type": "execute_result"
    }
   ],
   "source": [
    "len(polymer_lengths)"
   ]
  }
 ],
 "metadata": {
  "kernelspec": {
   "display_name": "Python 3",
   "language": "python",
   "name": "python3"
  },
  "language_info": {
   "codemirror_mode": {
    "name": "ipython",
    "version": 3
   },
   "file_extension": ".py",
   "mimetype": "text/x-python",
   "name": "python",
   "nbconvert_exporter": "python",
   "pygments_lexer": "ipython3",
   "version": "3.6.5"
  }
 },
 "nbformat": 4,
 "nbformat_minor": 2
}
