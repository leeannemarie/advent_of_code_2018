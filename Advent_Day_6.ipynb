{
 "cells": [
  {
   "cell_type": "markdown",
   "metadata": {},
   "source": [
    "https://adventofcode.com/2018/day/6"
   ]
  },
  {
   "cell_type": "markdown",
   "metadata": {},
   "source": [
    "Objective: given a list of coordinates in 2D space, find the coordinate that gives the largest distance from the other points.\n",
    "\n",
    "\"Using only the Manhattan distance, determine the area around each coordinate by counting the number of integer X,Y locations that are closest to that coordinate (and aren't tied in distance to any other coordinate).\n",
    "\n",
    "Your goal is to find the size of the largest area that isn't infinite.\"\n",
    "\n",
    "---\n",
    "\n",
    "Key issue is: How to go from calculating the the manhattan distance to determining how many other locations are closest? \n",
    "\n",
    "The end answer is area, so should I somehow make a 2D representation of the coordinates, like in the example?\n",
    "\n",
    "How can I identify and therefore discard the coordinates that are on the edges of our 2D space (and therefore infinite)?\n",
    "\n",
    "manhattan or taxicab distance is \"a form of geometry in which the usual distance function or metric of Euclidean geometry is replaced by a new metric in which the distance between two points is the sum of the absolute differences of their Cartesian coordinates\"\n",
    "\n",
    "Be mindful of off by one errors depending on how the coordinates are defined\n"
   ]
  },
  {
   "cell_type": "markdown",
   "metadata": {},
   "source": [
    "In plain english:\n",
    "populate the grid, looping through manhattan distance fore ach of the points. \n",
    "which point does that coordinate on hte grid \"belong\" to?\n",
    "careful that things are tied belong to no point\n",
    "then, sum up each point's number of coordinates that \"Belong\" to them\n",
    "which point has the most, that ISNT on the border or in infinite space?"
   ]
  },
  {
   "cell_type": "markdown",
   "metadata": {},
   "source": [
    "Baby step tasks:\n",
    "\n",
    "- determine size of grid\n",
    "- convert our text file to coordinate format ()\n",
    "- write function to calculate manhattan distances \n",
    "- use that function to loop: for a specific coordinate to all points in our list, and take min\n",
    "- make tied distances null\n",
    "- tally up # of coordinates that belong to each point\n",
    "- exclude the points that are on the border and have infinite space\n",
    "- take point that has the max # of coordinates that belong to it"
   ]
  },
  {
   "cell_type": "code",
   "execution_count": 1,
   "metadata": {},
   "outputs": [],
   "source": [
    "from scipy.spatial import distance\n",
    "import itertools\n",
    "from tqdm import tqdm\n",
    "from collections import defaultdict, Counter\n",
    "import numpy as np\n",
    "import matplotlib.pyplot as plt"
   ]
  },
  {
   "cell_type": "code",
   "execution_count": 2,
   "metadata": {},
   "outputs": [
    {
     "name": "stdout",
     "output_type": "stream",
     "text": [
      "358 is the max x-coordinate, 70 is the min x-coordinate\n",
      "355 is the max y-coordinate, 43 is the min y-coordinate\n",
      "The working grid is 288 x 312.\n",
      "The total number of coordinates to query is 89856.\n"
     ]
    }
   ],
   "source": [
    "#determine size of the grid, and convert text file to coordinate format\n",
    "xs = []\n",
    "ys = []\n",
    "destination_coordinates = []\n",
    "\n",
    "with open('input_D6.txt') as file:\n",
    "    for line in file:\n",
    "        line = line.strip()\n",
    "        x, y = [int(line) for line in line.split(',')]\n",
    "        xs.append(x)\n",
    "        ys.append(y)\n",
    "        destination_coordinates.append((x, y))\n",
    "        \n",
    "\n",
    "print('{0} is the max x-coordinate, {1} is the min x-coordinate'.format(max(xs), min(xs)))\n",
    "print('{0} is the max y-coordinate, {1} is the min y-coordinate'.format(max(ys), min(ys)))\n",
    "\n",
    "print('The working grid is {} x {}.'.format((max(xs) - min(xs)), (max(ys) - min(ys))))\n",
    "print('The total number of coordinates to query is {}.'.format((max(xs) - min(xs))*(max(ys) - min(ys))))"
   ]
  },
  {
   "cell_type": "code",
   "execution_count": 3,
   "metadata": {},
   "outputs": [
    {
     "name": "stdout",
     "output_type": "stream",
     "text": [
      "89856\n"
     ]
    }
   ],
   "source": [
    "#how do we check for off by one errors here?\n",
    "#this makes a list of all the coordinates in our grid\n",
    "\n",
    "x_points = list(range(min(xs), max(xs)))\n",
    "y_points = list(range(min(ys), max(ys)))\n",
    "\n",
    "all_coordinates = (list(itertools.product(x_points, y_points)))\n",
    "print(len(all_coordinates))"
   ]
  },
  {
   "cell_type": "code",
   "execution_count": 4,
   "metadata": {},
   "outputs": [],
   "source": [
    "def calculate_manhattan_distance(coordinate1, coordinate2):\n",
    "    return distance.cityblock(coordinate1, coordinate2)"
   ]
  },
  {
   "cell_type": "code",
   "execution_count": 5,
   "metadata": {},
   "outputs": [],
   "source": [
    "#work with the index of the destination_coordinates as identifiers\n",
    "\n",
    "def closest_destination(coordinate):\n",
    "    distances = [calculate_manhattan_distance(coordinate, destination) for destination in destination_coordinates]\n",
    "    min_distance = min(distances)\n",
    "\n",
    "    closest_destinations = [index for index, distance in enumerate(distances) if distance == min_distance]\n",
    "    if len(closest_destinations) > 1:\n",
    "        closest_destination = -1 #sentinel value\n",
    "    else:\n",
    "        closest_destination = closest_destinations[0]\n",
    "    \n",
    "    return closest_destination"
   ]
  },
  {
   "cell_type": "code",
   "execution_count": 6,
   "metadata": {},
   "outputs": [
    {
     "name": "stderr",
     "output_type": "stream",
     "text": [
      "100%|██████████| 359/359 [01:18<00:00,  4.82it/s]\n"
     ]
    }
   ],
   "source": [
    "closest_distances_grid = np.full((max(xs) + 1, max(ys) + 1), -1)\n",
    "\n",
    "for row in tqdm(range(max(xs) + 1)):\n",
    "    for col in range(max(ys) + 1):\n",
    "        closest_distances_grid[row, col] = closest_destination((row, col))"
   ]
  },
  {
   "cell_type": "code",
   "execution_count": 7,
   "metadata": {},
   "outputs": [
    {
     "data": {
      "text/plain": [
       "<matplotlib.image.AxesImage at 0x615e3f7f0>"
      ]
     },
     "execution_count": 7,
     "metadata": {},
     "output_type": "execute_result"
    },
    {
     "data": {
      "image/png": "[encoded data removed]",
      "text/plain": [
       "<Figure size 432x288 with 1 Axes>"
      ]
     },
     "metadata": {},
     "output_type": "display_data"
    }
   ],
   "source": [
    "plt.imshow(closest_distances_grid)"
   ]
  },
  {
   "cell_type": "markdown",
   "metadata": {},
   "source": [
    "Count which one has smallest number, make sure to discard -1 values or any value on the edge of the grid.\n",
    "\n",
    "Figure out which values are on the edge (in a numpyarray).\n",
    "\n",
    "Go back to where you define xs and ys and make sure you're not off by 1 in accordance with directions."
   ]
  },
  {
   "cell_type": "code",
   "execution_count": 8,
   "metadata": {},
   "outputs": [
    {
     "name": "stdout",
     "output_type": "stream",
     "text": [
      "(359, 356)\n"
     ]
    }
   ],
   "source": [
    "#size of the grid\n",
    "print((max(xs) + 1, max(ys) + 1))"
   ]
  },
  {
   "cell_type": "markdown",
   "metadata": {},
   "source": [
    "To remove edges, collect the numbers seen in the first row, the last row, the first column, and the last column. Then exclude these numbers from our counter below."
   ]
  },
  {
   "cell_type": "code",
   "execution_count": 9,
   "metadata": {},
   "outputs": [],
   "source": [
    "data = np.array([[11, 22, 33],\n",
    "[44, 55, 66],\n",
    "[77, 88, 99]])"
   ]
  },
  {
   "cell_type": "code",
   "execution_count": 10,
   "metadata": {},
   "outputs": [],
   "source": [
    "edges_of_grid = []\n",
    "#first column slicing\n",
    "edges_of_grid.append((closest_distances_grid[:, 0]).tolist())\n",
    "\n",
    "#first row slicing\n",
    "edges_of_grid.append((closest_distances_grid[0, :]).tolist())\n",
    "\n",
    "#last column slicing\n",
    "edges_of_grid.append((closest_distances_grid[:, -1]).tolist())\n",
    "\n",
    "#last row slicing\n",
    "edges_of_grid.append((closest_distances_grid[-1, :]).tolist())"
   ]
  },
  {
   "cell_type": "code",
   "execution_count": 12,
   "metadata": {},
   "outputs": [],
   "source": [
    "s = {}"
   ]
  },
  {
   "cell_type": "code",
   "execution_count": 13,
   "metadata": {},
   "outputs": [],
   "source": [
    "to_discard = {-1}\n",
    "to_discard.update(closest_distances_grid[:, 0])\n",
    "to_discard.update(closest_distances_grid[0, :])\n",
    "to_discard.update(closest_distances_grid[:, -1])\n",
    "to_discard.update(closest_distances_grid[-1, :])"
   ]
  },
  {
   "cell_type": "code",
   "execution_count": 14,
   "metadata": {},
   "outputs": [
    {
     "data": {
      "text/plain": [
       "{-1, 1, 3, 4, 11, 12, 13, 14, 15, 17, 19, 25, 27, 28, 29, 37, 40, 42, 43, 44}"
      ]
     },
     "execution_count": 14,
     "metadata": {},
     "output_type": "execute_result"
    }
   ],
   "source": [
    "to_discard"
   ]
  },
  {
   "cell_type": "code",
   "execution_count": 15,
   "metadata": {},
   "outputs": [],
   "source": [
    "destinations_to_discard = set()\n",
    "for item in edges_of_grid:\n",
    "    for number in item:\n",
    "        destinations_to_discard.add(number)"
   ]
  },
  {
   "cell_type": "code",
   "execution_count": 16,
   "metadata": {},
   "outputs": [
    {
     "data": {
      "text/plain": [
       "{-1, 1, 3, 4, 11, 12, 13, 14, 15, 17, 19, 25, 27, 28, 29, 37, 40, 42, 43, 44}"
      ]
     },
     "execution_count": 16,
     "metadata": {},
     "output_type": "execute_result"
    }
   ],
   "source": [
    "destinations_to_discard"
   ]
  },
  {
   "cell_type": "code",
   "execution_count": 17,
   "metadata": {},
   "outputs": [
    {
     "data": {
      "text/plain": [
       "array([[11, 11, 11, ..., 15, 15, 15],\n",
       "       [11, 11, 11, ..., 15, 15, 15],\n",
       "       [11, 11, 11, ..., 15, 15, 15],\n",
       "       ...,\n",
       "       [42, 42, 42, ..., 44, 44, 44],\n",
       "       [42, 42, 42, ..., 40, 40, 40],\n",
       "       [42, 42, 42, ..., 40, 40, 40]])"
      ]
     },
     "execution_count": 17,
     "metadata": {},
     "output_type": "execute_result"
    }
   ],
   "source": [
    "closest_distances_grid"
   ]
  },
  {
   "cell_type": "code",
   "execution_count": 18,
   "metadata": {},
   "outputs": [],
   "source": [
    "#before running this I need to remove edges\n",
    "areas = Counter(closest_distances_grid.flatten()).most_common()"
   ]
  },
  {
   "cell_type": "code",
   "execution_count": 19,
   "metadata": {},
   "outputs": [],
   "source": [
    "#before running this I need to remove edges\n",
    "areas = Counter(v for v in closest_distances_grid.flatten() if v not in destinations_to_discard).most_common()"
   ]
  },
  {
   "cell_type": "code",
   "execution_count": 20,
   "metadata": {},
   "outputs": [],
   "source": [
    "relevant_areas = [(index, area) for (index, area) in areas if index not in destinations_to_discard]"
   ]
  },
  {
   "cell_type": "code",
   "execution_count": 21,
   "metadata": {},
   "outputs": [
    {
     "data": {
      "text/plain": [
       "[(47, 4016),\n",
       " (23, 3414),\n",
       " (8, 3373),\n",
       " (20, 2702),\n",
       " (26, 2470),\n",
       " (33, 2400),\n",
       " (38, 2365),\n",
       " (2, 2086),\n",
       " (39, 2076),\n",
       " (22, 1868),\n",
       " (21, 1807),\n",
       " (18, 1665),\n",
       " (48, 1501),\n",
       " (36, 1484),\n",
       " (46, 1451),\n",
       " (31, 1446),\n",
       " (5, 1361),\n",
       " (24, 1361),\n",
       " (7, 1358),\n",
       " (10, 1338),\n",
       " (49, 1298),\n",
       " (32, 1251),\n",
       " (30, 1115),\n",
       " (41, 1111),\n",
       " (9, 958),\n",
       " (34, 913),\n",
       " (45, 656),\n",
       " (16, 577),\n",
       " (6, 576),\n",
       " (35, 552),\n",
       " (0, 465)]"
      ]
     },
     "execution_count": 21,
     "metadata": {},
     "output_type": "execute_result"
    }
   ],
   "source": [
    "relevant_areas"
   ]
  },
  {
   "cell_type": "markdown",
   "metadata": {},
   "source": [
    "Part two objective: determine the number of coordinates that have a collective manhattan distance to the destinations less than 10000.\n",
    "\n",
    "I'm assuming its ok that our grid is bigger than the area of interest since the further away we get, the less likely that coordinate will have a collective manhattan distance less than 10,000?"
   ]
  },
  {
   "cell_type": "code",
   "execution_count": 22,
   "metadata": {},
   "outputs": [],
   "source": [
    "#work with the index of the destination_coordinates as identifiers\n",
    "\n",
    "def total_manhattan_less_than_value(coordinate):\n",
    "    value = 10000\n",
    "    distances = [calculate_manhattan_distance(coordinate, destination) for destination in destination_coordinates]\n",
    "\n",
    "    if sum(distances) > value:\n",
    "        qualified_coordinate = -1 #sentinel value\n",
    "    else:\n",
    "        qualified_coordinate = 1\n",
    "    \n",
    "    return qualified_coordinate"
   ]
  },
  {
   "cell_type": "code",
   "execution_count": 23,
   "metadata": {},
   "outputs": [
    {
     "name": "stderr",
     "output_type": "stream",
     "text": [
      "100%|██████████| 359/359 [01:15<00:00,  4.71it/s]\n"
     ]
    }
   ],
   "source": [
    "total_distances_grid = np.full((max(xs) + 1, max(ys) + 1), -1)\n",
    "\n",
    "for row in tqdm(range(max(xs) + 1)):\n",
    "    for col in range(max(ys) + 1):\n",
    "        total_distances_grid[row, col] = total_manhattan_less_than_value((row, col))"
   ]
  },
  {
   "cell_type": "code",
   "execution_count": 24,
   "metadata": {},
   "outputs": [
    {
     "data": {
      "text/plain": [
       "<matplotlib.image.AxesImage at 0x6180fbc88>"
      ]
     },
     "execution_count": 24,
     "metadata": {},
     "output_type": "execute_result"
    },
    {
     "data": {
      "image/png": "[encoded data removed]",
      "text/plain": [
       "<Figure size 432x288 with 1 Axes>"
      ]
     },
     "metadata": {},
     "output_type": "display_data"
    }
   ],
   "source": [
    "plt.imshow(total_distances_grid)"
   ]
  },
  {
   "cell_type": "code",
   "execution_count": 25,
   "metadata": {},
   "outputs": [],
   "source": [
    "area_totals = Counter(total_distances_grid.flatten()).most_common()"
   ]
  },
  {
   "cell_type": "code",
   "execution_count": 26,
   "metadata": {},
   "outputs": [
    {
     "data": {
      "text/plain": [
       "[(-1, 81498), (1, 46306)]"
      ]
     },
     "execution_count": 26,
     "metadata": {},
     "output_type": "execute_result"
    }
   ],
   "source": [
    "area_totals"
   ]
  },
  {
   "cell_type": "code",
   "execution_count": 27,
   "metadata": {},
   "outputs": [],
   "source": [
    "safe_area = [area for (index, area) in area_totals if index != -1]"
   ]
  },
  {
   "cell_type": "code",
   "execution_count": 28,
   "metadata": {},
   "outputs": [
    {
     "data": {
      "text/plain": [
       "[46306]"
      ]
     },
     "execution_count": 28,
     "metadata": {},
     "output_type": "execute_result"
    }
   ],
   "source": [
    "safe_area"
   ]
  }
 ],
 "metadata": {
  "kernelspec": {
   "display_name": "Python 3",
   "language": "python",
   "name": "python3"
  },
  "language_info": {
   "codemirror_mode": {
    "name": "ipython",
    "version": 3
   },
   "file_extension": ".py",
   "mimetype": "text/x-python",
   "name": "python",
   "nbconvert_exporter": "python",
   "pygments_lexer": "ipython3",
   "version": "3.6.5"
  }
 },
 "nbformat": 4,
 "nbformat_minor": 2
}
