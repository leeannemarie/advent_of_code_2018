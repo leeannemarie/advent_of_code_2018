{
 "cells": [
  {
   "cell_type": "markdown",
   "metadata": {},
   "source": [
    "https://adventofcode.com/2018/day/12"
   ]
  },
  {
   "cell_type": "markdown",
   "metadata": {},
   "source": [
    "Pots are infinite in either direction\n",
    "\n",
    "Initial state is a list of pots from 0 to the right. # means it has a plant, . means it doesnt\n",
    "\n",
    "Below that is instructions for how the plants will propagate in generations to come. 32 combinations of 5 characters, and then it runs for 20 generations\n",
    "\n",
    "Format is:\n",
    "LLCRR, where N is current plant\n",
    "=> means what will happen to current plant\n",
    "\n",
    "\n",
    "Final question: After 20 generations, what is the sume of the numbers of all pots which contain a plant?"
   ]
  },
  {
   "cell_type": "markdown",
   "metadata": {},
   "source": [
    "Things to figure out:\n",
    "- need to index plants\n",
    "- create a dictionary where key = pattern and value = result"
   ]
  },
  {
   "cell_type": "code",
   "execution_count": 1,
   "metadata": {},
   "outputs": [
    {
     "name": "stdout",
     "output_type": "stream",
     "text": [
      "initial state: ##.#.####..#####..#.....##....#.#######..#.#...........#......##...##.#...####..##.#..##.....#..####\n",
      "\n",
      "#..#. => #\n",
      ".###. => .\n",
      "..##. => .\n",
      "....# => .\n",
      "#...# => .\n",
      ".#.#. => .\n",
      "#.#.# => #\n",
      "#.... => .\n"
     ]
    }
   ],
   "source": [
    "! head input_D12.txt"
   ]
  },
  {
   "cell_type": "code",
   "execution_count": 2,
   "metadata": {},
   "outputs": [],
   "source": [
    "plant_instructions = {}\n",
    "\n",
    "with open('input_D12.txt') as file:\n",
    "    header = file.readline().strip()\n",
    "    _ = file.readline()\n",
    "    for line in file:\n",
    "        key, value = line.strip().split(' => ')\n",
    "        plant_instructions[key] = value\n",
    "\n",
    "initial_state = list(header.split(' ')[2])"
   ]
  },
  {
   "cell_type": "markdown",
   "metadata": {},
   "source": [
    "for a position, look up the value of that position plus the two on either side of it . Does that string match our current instruction? If so, put a plant there for next generation"
   ]
  },
  {
   "cell_type": "code",
   "execution_count": 3,
   "metadata": {},
   "outputs": [],
   "source": [
    "#function that takes in current generation and returns next generation\n",
    "\n",
    "def get_next_gen(prev_gen):\n",
    "    working_state = ['.', '.', '.', '.'] + prev_gen + ['.', '.', '.', '.']\n",
    "    next_gen = []\n",
    "    for i, pot in enumerate(working_state):\n",
    "        if (len(working_state) - 2) > i > 1: \n",
    "            pattern = working_state[(i - 2):(i + 3)]\n",
    "            next_gen.append(plant_instructions[''.join(pattern)])\n",
    "            \n",
    "    return next_gen"
   ]
  },
  {
   "cell_type": "markdown",
   "metadata": {},
   "source": [
    "#now just need to keep track of which pot is the original plant zero"
   ]
  },
  {
   "cell_type": "code",
   "execution_count": 4,
   "metadata": {},
   "outputs": [
    {
     "name": "stdout",
     "output_type": "stream",
     "text": [
      "100\n",
      "104\n"
     ]
    }
   ],
   "source": [
    "print(len(''.join(initial_state)))\n",
    "print(len(''.join(get_next_gen(initial_state))))"
   ]
  },
  {
   "cell_type": "code",
   "execution_count": 5,
   "metadata": {},
   "outputs": [
    {
     "name": "stdout",
     "output_type": "stream",
     "text": [
      "##.#.####..#####..#.....##....#.#######..#.#...........#......##...##.#...####..##.#..##.....#..####\n",
      ".#.####..#...#..#..###...#.##....#.....#..#..##..........##....#.##.#.####.##.#....####..##....##.#.#.#.\n"
     ]
    }
   ],
   "source": [
    "print(''.join(initial_state))\n",
    "print(''.join(get_next_gen(initial_state)))"
   ]
  },
  {
   "cell_type": "code",
   "execution_count": 6,
   "metadata": {},
   "outputs": [
    {
     "name": "stdout",
     "output_type": "stream",
     "text": [
      "['.', '.', '.', '.', '.', '.', '.', '.', '.', '.', '.', '.', '.', '.', '.', '.', '.', '.', '.', '.', '.', '.', '.', '.', '.', '.', '.', '.', '.', '.', '.', '.', '.', '.', '.', '.', '.', '.', '.', '.', '.', '.', '.', '.', '.', '#', '.', '#', '#', '.', '.', '.', '.', '#', '.', '#', '#', '.', '.', '.', '.', '#', '#', '.', '#', '#', '.', '#', '.', '#', '.', '#', '#', '.', '#', '#', '.', '#', '#', '#', '.', '#', '.', '#', '#', '.', '#', '#', '.', '#', '#', '.', '#', '.', '.', '#', '.', '.', '#', '#', '#', '.', '.', '.', '#', '.', '#', '#', '.', '.', '.', '.', '#', '.', '#', '#', '.', '.', '.', '#', '.', '#', '#', '.', '.', '.', '.', '#', '.', '#', '#', '.', '#', '#', '.', '.', '.', '#', '#', '.', '#', '#', '.', '.', '#', '.', '#', '#', '.', '#', '#', '.', '#', '#', '.', '#', '#', '.', '#', '#', '.', '.', '.', '.', '.', '.', '.', '.', '.', '.', '.', '.', '.', '.', '.', '.', '.', '.', '.', '.']\n"
     ]
    }
   ],
   "source": [
    "current_generation = initial_state\n",
    "\n",
    "for i in range(20):\n",
    "    current_generation = get_next_gen(current_generation)\n",
    "\n",
    "print(current_generation)"
   ]
  },
  {
   "cell_type": "code",
   "execution_count": 7,
   "metadata": {},
   "outputs": [],
   "source": [
    "indices = [i for i, x in enumerate(current_generation[40:]) if x == \"#\"]"
   ]
  },
  {
   "cell_type": "code",
   "execution_count": 8,
   "metadata": {},
   "outputs": [
    {
     "data": {
      "text/plain": [
       "3798"
      ]
     },
     "execution_count": 8,
     "metadata": {},
     "output_type": "execute_result"
    }
   ],
   "source": [
    "sum(indices)"
   ]
  }
 ],
 "metadata": {
  "kernelspec": {
   "display_name": "Python 3",
   "language": "python",
   "name": "python3"
  },
  "language_info": {
   "codemirror_mode": {
    "name": "ipython",
    "version": 3
   },
   "file_extension": ".py",
   "mimetype": "text/x-python",
   "name": "python",
   "nbconvert_exporter": "python",
   "pygments_lexer": "ipython3",
   "version": "3.6.5"
  }
 },
 "nbformat": 4,
 "nbformat_minor": 2
}
