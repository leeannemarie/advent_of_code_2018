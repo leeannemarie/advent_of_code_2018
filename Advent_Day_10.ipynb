{
 "cells": [
  {
   "cell_type": "markdown",
   "metadata": {},
   "source": [
    "https://adventofcode.com/2018/day/10"
   ]
  },
  {
   "cell_type": "code",
   "execution_count": 1,
   "metadata": {},
   "outputs": [],
   "source": [
    "import matplotlib.pyplot as plt\n",
    "import numpy as np\n",
    "import ipywidgets\n",
    "import re"
   ]
  },
  {
   "cell_type": "code",
   "execution_count": 2,
   "metadata": {},
   "outputs": [
    {
     "data": {
      "application/vnd.jupyter.widget-view+json": {
       "model_id": "f21e23ff09cb401cbe877d8bb6c390d1",
       "version_major": 2,
       "version_minor": 0
      },
      "text/plain": [
       "interactive(children=(Play(value=0, description='exponent'), Output()), _dom_classes=('widget-interact',))"
      ]
     },
     "metadata": {},
     "output_type": "display_data"
    }
   ],
   "source": [
    "def make_plot(exponent):\n",
    "    xs = np.linspace(0, 1, 100)\n",
    "    ys = xs**exponent\n",
    "    fig, ax = plt.subplots()\n",
    "    ax.plot(xs, ys)\n",
    "    ax.set_title(exponent)\n",
    "    return fig\n",
    "\n",
    "ipywidgets.interactive(make_plot, exponent=ipywidgets.Play())"
   ]
  },
  {
   "cell_type": "code",
   "execution_count": 3,
   "metadata": {},
   "outputs": [
    {
     "name": "stdout",
     "output_type": "stream",
     "text": [
      "position=<-40181, -50237> velocity=< 4,  5>\n",
      "position=<-40122,  30405> velocity=< 4, -3>\n",
      "position=<-40158, -50246> velocity=< 4,  5>\n",
      "position=<-50220,  50573> velocity=< 5, -5>\n",
      "position=< 20317, -30082> velocity=<-2,  3>\n",
      "position=<-50207,  40490> velocity=< 5, -4>\n",
      "position=< 10260,  -9913> velocity=<-1,  1>\n",
      "position=<-50212, -20003> velocity=< 5,  2>\n",
      "position=< 40498, -40158> velocity=<-4,  4>\n",
      "position=< 30446,  20330> velocity=<-3, -2>\n"
     ]
    }
   ],
   "source": [
    "#make a scatter plot of starting points\n",
    "!head 'input_D10.txt'"
   ]
  },
  {
   "cell_type": "code",
   "execution_count": 4,
   "metadata": {},
   "outputs": [],
   "source": [
    "with open('input_D10.txt') as file:\n",
    "    x_positions = []\n",
    "    y_positions = []\n",
    "    x_velocities = []\n",
    "    y_velocities = []\n",
    "    for line in file:\n",
    "        line = line.strip()\n",
    "        x_pos, y_pos, x_vel, y_vel = [int(match) for match in re.findall('[- ]\\d+', line)]\n",
    "        x_positions.append(x_pos)\n",
    "        y_positions.append(y_pos)\n",
    "        x_velocities.append(x_vel)\n",
    "        y_velocities.append(y_vel)"
   ]
  },
  {
   "cell_type": "code",
   "execution_count": 5,
   "metadata": {},
   "outputs": [
    {
     "data": {
      "text/plain": [
       "<matplotlib.collections.PathCollection at 0x10d920cf8>"
      ]
     },
     "execution_count": 5,
     "metadata": {},
     "output_type": "execute_result"
    },
    {
     "data": {
      "image/png": "[encoded data removed]",
      "text/plain": [
       "<Figure size 432x288 with 1 Axes>"
      ]
     },
     "metadata": {},
     "output_type": "display_data"
    }
   ],
   "source": [
    "plt.scatter(x_positions, y_positions)"
   ]
  },
  {
   "cell_type": "code",
   "execution_count": 6,
   "metadata": {},
   "outputs": [],
   "source": [
    "# x vel is how much to move to right or left\n",
    "# y vel is how much to move up and down\n"
   ]
  },
  {
   "cell_type": "markdown",
   "metadata": {},
   "source": [
    "Might need to write a function that will add or subtract x_vel and y_vel from the x_position and y_position"
   ]
  },
  {
   "cell_type": "code",
   "execution_count": 7,
   "metadata": {},
   "outputs": [],
   "source": [
    "x_pos_array = np.array(x_positions)\n",
    "x_vel_array = np.array(x_velocities)\n",
    "\n",
    "y_pos_array = np.array(y_positions)\n",
    "y_vel_array = np.array(y_velocities)"
   ]
  },
  {
   "cell_type": "code",
   "execution_count": 8,
   "metadata": {},
   "outputs": [
    {
     "ename": "NameError",
     "evalue": "name 'time' is not defined",
     "output_type": "error",
     "traceback": [
      "\u001b[0;31m---------------------------------------------------------------------------\u001b[0m",
      "\u001b[0;31mNameError\u001b[0m                                 Traceback (most recent call last)",
      "\u001b[0;32m<ipython-input-8-c7ef54819e49>\u001b[0m in \u001b[0;36m<module>\u001b[0;34m()\u001b[0m\n\u001b[0;32m----> 1\u001b[0;31m \u001b[0mx_pos_array\u001b[0m \u001b[0;34m+\u001b[0m \u001b[0mtime\u001b[0m \u001b[0;34m*\u001b[0m \u001b[0mx_vel_array\u001b[0m\u001b[0;34m\u001b[0m\u001b[0m\n\u001b[0m\u001b[1;32m      2\u001b[0m \u001b[0my_pos_array\u001b[0m \u001b[0;34m+\u001b[0m \u001b[0mtime\u001b[0m \u001b[0;34m*\u001b[0m \u001b[0my_vel_array\u001b[0m\u001b[0;34m\u001b[0m\u001b[0m\n",
      "\u001b[0;31mNameError\u001b[0m: name 'time' is not defined"
     ]
    }
   ],
   "source": [
    "x_pos_array + time * x_vel_array\n",
    "y_pos_array + time * y_vel_array"
   ]
  },
  {
   "cell_type": "code",
   "execution_count": 9,
   "metadata": {},
   "outputs": [
    {
     "data": {
      "application/vnd.jupyter.widget-view+json": {
       "model_id": "15be7f5ca0aa4003a643fe22dbe2fbfa",
       "version_major": 2,
       "version_minor": 0
      },
      "text/plain": [
       "interactive(children=(IntSlider(value=10081, description='time', max=100000), Output()), _dom_classes=('widget…"
      ]
     },
     "metadata": {},
     "output_type": "display_data"
    }
   ],
   "source": [
    "def make_plot(time):\n",
    "    xs = x_pos_array + time * x_vel_array\n",
    "    ys = y_pos_array + time * y_vel_array\n",
    "    fig, ax = plt.subplots()\n",
    "    ax.scatter(xs, ys)\n",
    "    ax.set_title(time)\n",
    "    ax.set_aspect('equal')\n",
    "    #ax.invert_xaxis()\n",
    "    ax.invert_yaxis()\n",
    "    return fig\n",
    "\n",
    "\n",
    "ipywidgets.interactive(make_plot, time=ipywidgets.IntSlider(value=10081, min=0, max=100000))"
   ]
  },
  {
   "cell_type": "markdown",
   "metadata": {},
   "source": [
    "answer = crxkezpz"
   ]
  }
 ],
 "metadata": {
  "kernelspec": {
   "display_name": "Python 3",
   "language": "python",
   "name": "python3"
  },
  "language_info": {
   "codemirror_mode": {
    "name": "ipython",
    "version": 3
   },
   "file_extension": ".py",
   "mimetype": "text/x-python",
   "name": "python",
   "nbconvert_exporter": "python",
   "pygments_lexer": "ipython3",
   "version": "3.6.5"
  }
 },
 "nbformat": 4,
 "nbformat_minor": 2
}
