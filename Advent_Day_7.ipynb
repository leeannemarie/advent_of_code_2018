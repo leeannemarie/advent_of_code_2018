{
 "cells": [
  {
   "cell_type": "markdown",
   "metadata": {},
   "source": [
    "https://adventofcode.com/2018/day/7"
   ]
  },
  {
   "cell_type": "markdown",
   "metadata": {},
   "source": [
    "Objective: define a class to represent a step. Each instance of a step will store instance variables to keep track of what other steps it depends on, and what other steps depend on it."
   ]
  },
  {
   "cell_type": "markdown",
   "metadata": {},
   "source": [
    "dictionary, key:value , step is the key and instance is the value"
   ]
  },
  {
   "cell_type": "code",
   "execution_count": 1,
   "metadata": {},
   "outputs": [],
   "source": [
    "import re"
   ]
  },
  {
   "cell_type": "code",
   "execution_count": 2,
   "metadata": {},
   "outputs": [
    {
     "data": {
      "text/plain": [
       "65"
      ]
     },
     "execution_count": 2,
     "metadata": {},
     "output_type": "execute_result"
    }
   ],
   "source": [
    "ord('A')"
   ]
  },
  {
   "cell_type": "code",
   "execution_count": 3,
   "metadata": {},
   "outputs": [],
   "source": [
    "class Step():\n",
    "    def __init__(self, name):\n",
    "        self.name = name\n",
    "        self.duration = ord(name) - ord('A') + 61\n",
    "        self.still_waiting_on = set()\n",
    "        self.waiting_on_me = set()\n",
    "        \n",
    "    def __repr__(self):\n",
    "        return 'My name is {0}.\\nI\\'m out here tryna function.\\nI\\'m waiting on {1}.\\n{2} are waiting on me'.format(self.name, self.still_waiting_on, self.waiting_on_me)\n",
    "        \n"
   ]
  },
  {
   "cell_type": "code",
   "execution_count": 4,
   "metadata": {},
   "outputs": [],
   "source": [
    "with open('input_D7.txt') as file:\n",
    "    all_steps = set()\n",
    "    for line in file:\n",
    "        for match in re.finditer('[Ss]tep (\\w)', line):\n",
    "            all_steps.add(match.group(1))\n",
    "            \n",
    "#all_steps is just the alphabet"
   ]
  },
  {
   "cell_type": "code",
   "execution_count": 5,
   "metadata": {},
   "outputs": [
    {
     "name": "stdout",
     "output_type": "stream",
     "text": [
      "AEMNPOJWISZCDFUKBXQTHVLGRY\n"
     ]
    }
   ],
   "source": [
    "step_dictionary = {name: Step(name) for name in all_steps}\n",
    "\n",
    "with open('input_D7.txt') as file:\n",
    "    for line in file:\n",
    "        uppercase_match = re.search('Step (\\w)', line).group(1)\n",
    "        lowercase_match = re.search('step (\\w)', line).group(1)\n",
    "        \n",
    "        step_dictionary[uppercase_match].waiting_on_me.add(lowercase_match)\n",
    "        step_dictionary[lowercase_match].still_waiting_on.add(uppercase_match)\n",
    "        \n",
    "\n",
    "correct_order = []\n",
    "\n",
    "while len(step_dictionary) > 0:\n",
    "    ready_to_go = set(name for name in step_dictionary if len(step_dictionary[name].still_waiting_on) == 0)\n",
    "    current_name = min(ready_to_go)\n",
    "    correct_order.append(current_name)\n",
    "\n",
    "    current_step = step_dictionary.pop(current_name)\n",
    "\n",
    "\n",
    "    for letter in current_step.waiting_on_me:\n",
    "        step_dictionary[letter].still_waiting_on.remove(current_step.name)\n",
    "\n",
    "print(''.join(correct_order))\n"
   ]
  },
  {
   "cell_type": "markdown",
   "metadata": {},
   "source": [
    "when executing a step, add it to the ordered list, then pull out that steps \"waiting on me\" set, then for each letter in that set, go into that letter's still waiting on set and remove the step. lastly, remove the step from the dictionary"
   ]
  },
  {
   "cell_type": "markdown",
   "metadata": {},
   "source": [
    "Part two:"
   ]
  },
  {
   "cell_type": "markdown",
   "metadata": {},
   "source": [
    "Want to add to the step instances a variable called duration that stores how long each one takes"
   ]
  },
  {
   "cell_type": "markdown",
   "metadata": {},
   "source": [
    "write a function called execute_task that takes a letter and pops it out of our dictionary, and removes it from the other things waiting on it."
   ]
  },
  {
   "cell_type": "markdown",
   "metadata": {},
   "source": [
    "separately, called get_next_available which returns a step object that is next available."
   ]
  },
  {
   "cell_type": "code",
   "execution_count": 7,
   "metadata": {},
   "outputs": [],
   "source": [
    "from queue import PriorityQueue"
   ]
  },
  {
   "cell_type": "code",
   "execution_count": 8,
   "metadata": {},
   "outputs": [],
   "source": [
    "def execute_task(name):\n",
    "    current_step = step_dictionary.pop(name)\n",
    "    for letter in current_step.waiting_on_me:\n",
    "        step_dictionary[letter].still_waiting_on.remove(current_step.name)"
   ]
  },
  {
   "cell_type": "code",
   "execution_count": 9,
   "metadata": {},
   "outputs": [],
   "source": [
    "def next_available():\n",
    "    ready_to_go = set(name for name in step_dictionary if len(step_dictionary[name].still_waiting_on) == 0)\n",
    "    return min(ready_to_go)"
   ]
  },
  {
   "cell_type": "code",
   "execution_count": 10,
   "metadata": {},
   "outputs": [],
   "source": [
    "elf_1 = []\n",
    "elf_2 = []\n",
    "elf_3 = []\n",
    "elf_4 = []"
   ]
  },
  {
   "cell_type": "markdown",
   "metadata": {},
   "source": [
    "three things to keep track one:\n",
    " - Done in first part, which tasks need others to be compelted (dictionary of Steps)\n",
    " - How many elves we have, and how many are busy (set of available elves)\n",
    " - The specific times tasks finish in given when they start (priorityqueue)"
   ]
  },
  {
   "cell_type": "markdown",
   "metadata": {},
   "source": [
    "make a new class called Step_scheduler. define different methods to tell us things like what Steps are available, or what the next event to come off priority queue"
   ]
  }
 ],
 "metadata": {
  "kernelspec": {
   "display_name": "Python 3",
   "language": "python",
   "name": "python3"
  },
  "language_info": {
   "codemirror_mode": {
    "name": "ipython",
    "version": 3
   },
   "file_extension": ".py",
   "mimetype": "text/x-python",
   "name": "python",
   "nbconvert_exporter": "python",
   "pygments_lexer": "ipython3",
   "version": "3.6.5"
  }
 },
 "nbformat": 4,
 "nbformat_minor": 2
}
