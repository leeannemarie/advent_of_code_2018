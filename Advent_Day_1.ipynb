{
 "cells": [
  {
   "cell_type": "markdown",
   "metadata": {},
   "source": [
    "Puzzle One Objective: add together a bunch of numbers given in a text file, one number per line, each number beings with + or -.\n",
    "\n",
    "Convert each line of text to a float, and then add together?\n",
    "Need to read the .txt file using Python\n"
   ]
  },
  {
   "cell_type": "code",
   "execution_count": 9,
   "metadata": {},
   "outputs": [],
   "source": [
    "with open('input_D1.txt') as f:\n",
    "    content = f.readlines()\n",
    "    \n",
    "content = [x.strip() for x in content] \n",
    "content_2 = [int(x) for x in content]"
   ]
  },
  {
   "cell_type": "code",
   "execution_count": 10,
   "metadata": {},
   "outputs": [
    {
     "name": "stdout",
     "output_type": "stream",
     "text": [
      "[-14, 15, 9, 19, 18, 14, 14, -18, 15, 4]\n"
     ]
    }
   ],
   "source": [
    "print(content_2[:10])"
   ]
  },
  {
   "cell_type": "code",
   "execution_count": 11,
   "metadata": {},
   "outputs": [
    {
     "data": {
      "text/plain": [
       "425"
      ]
     },
     "execution_count": 11,
     "metadata": {},
     "output_type": "execute_result"
    }
   ],
   "source": [
    "sum(content_2)"
   ]
  },
  {
   "cell_type": "markdown",
   "metadata": {},
   "source": [
    "Better answer, manipulate each line in the file one at a time instead of putting each line into a list and then manipulating them."
   ]
  },
  {
   "cell_type": "code",
   "execution_count": 12,
   "metadata": {},
   "outputs": [
    {
     "name": "stdout",
     "output_type": "stream",
     "text": [
      "425\n"
     ]
    }
   ],
   "source": [
    "total = 0\n",
    "\n",
    "with open('input_D1.txt') as file:\n",
    "    for line in file:\n",
    "        number = int(line.strip())\n",
    "        total += number\n",
    "    \n",
    "print(total)"
   ]
  },
  {
   "cell_type": "markdown",
   "metadata": {},
   "source": [
    "Puzzle Two Objective: Add the numbers line by line, when the running total reaches the same number twice, record what that total is.\n",
    "\n",
    "This might happen in the middle of processing the list more than once, I think the implication in the description is that it resets and goes to the top if it hasn't reached the same frequency twice. \n",
    "\n",
    "Need to figure out:\n",
    "How to loop through the file many times if necessary\n",
    "How to check the running total if its been seen before \n",
    "\n",
    "Ideas:\n",
    "Maybe save the total to a new list and then run some function (google this) to ask if this total has been seen before? If true, then stop and record what that total is."
   ]
  },
  {
   "cell_type": "code",
   "execution_count": 13,
   "metadata": {},
   "outputs": [
    {
     "data": {
      "text/plain": [
       "27"
      ]
     },
     "execution_count": 13,
     "metadata": {},
     "output_type": "execute_result"
    }
   ],
   "source": [
    "#tells you how many times that number (x) is seen in the list\n",
    "content_2.count(-17)"
   ]
  },
  {
   "cell_type": "markdown",
   "metadata": {},
   "source": [
    "Make the totals that we are checking for duplicates a set, because its faster than a list."
   ]
  },
  {
   "cell_type": "code",
   "execution_count": 15,
   "metadata": {},
   "outputs": [
    {
     "name": "stdout",
     "output_type": "stream",
     "text": [
      "57538\n",
      "136 time through file\n"
     ]
    }
   ],
   "source": [
    "duplicate_found = False \n",
    "running_totals = set()\n",
    "total = 0\n",
    "\n",
    "times_through_file = 0\n",
    "\n",
    "while duplicate_found == False:\n",
    "\n",
    "    with open('input_D1.txt') as file:\n",
    "        for line in file:\n",
    "            number = int(line.strip())\n",
    "            total += number\n",
    "\n",
    "            if total in running_totals:\n",
    "                print(total)\n",
    "                duplicate_found = True\n",
    "                break\n",
    "            else:\n",
    "                running_totals.add(total)\n",
    "    \n",
    "    times_through_file += 1\n",
    "\n",
    "    \n",
    "print(times_through_file, 'time through file')"
   ]
  }
 ],
 "metadata": {
  "kernelspec": {
   "display_name": "Python 3",
   "language": "python",
   "name": "python3"
  },
  "language_info": {
   "codemirror_mode": {
    "name": "ipython",
    "version": 3
   },
   "file_extension": ".py",
   "mimetype": "text/x-python",
   "name": "python",
   "nbconvert_exporter": "python",
   "pygments_lexer": "ipython3",
   "version": "3.6.5"
  }
 },
 "nbformat": 4,
 "nbformat_minor": 2
}
